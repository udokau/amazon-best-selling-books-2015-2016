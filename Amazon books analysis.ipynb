{
 "cells": [
  {
   "cell_type": "markdown",
   "id": "90b1a2a2",
   "metadata": {},
   "source": [
    "**AMAZON BOOKS ANALYSIS**"
   ]
  },
  {
   "cell_type": "markdown",
   "id": "8293248c",
   "metadata": {},
   "source": [
    "**Summary**\n",
    "\n",
    "Amazon is one of the popular e-commerce platforms, providing products such as beauty and health products, books, electronics,  games, kids and baby products, music, sports goods, toys, and tools.\n",
    "\n",
    "This Data contains the details of the top 30 best selling books in 2015 and 2016 - The book title, author, format, rating, price, and review.\n",
    "\n",
    "The aim of this project is to analyze the type of books that were bought frequently by customers.\n"
   ]
  },
  {
   "cell_type": "code",
   "execution_count": 1,
   "id": "83b21e07",
   "metadata": {},
   "outputs": [],
   "source": [
    "#Import packages\n",
    "import pandas as pd\n",
    "import matplotlib.pyplot as plt\n",
    "import seaborn as sns"
   ]
  },
  {
   "cell_type": "code",
   "execution_count": 2,
   "id": "3e34adcf",
   "metadata": {},
   "outputs": [],
   "source": [
    "#load the data\n",
    "books = pd.read_csv('C:/Users/USER/My Python Stuff/books.csv')"
   ]
  },
  {
   "cell_type": "code",
   "execution_count": 3,
   "id": "9db8ab68",
   "metadata": {},
   "outputs": [
    {
     "data": {
      "text/html": [
       "<div>\n",
       "<style scoped>\n",
       "    .dataframe tbody tr th:only-of-type {\n",
       "        vertical-align: middle;\n",
       "    }\n",
       "\n",
       "    .dataframe tbody tr th {\n",
       "        vertical-align: top;\n",
       "    }\n",
       "\n",
       "    .dataframe thead th {\n",
       "        text-align: right;\n",
       "    }\n",
       "</style>\n",
       "<table border=\"1\" class=\"dataframe\">\n",
       "  <thead>\n",
       "    <tr style=\"text-align: right;\">\n",
       "      <th></th>\n",
       "      <th>Unnamed: 0</th>\n",
       "      <th>title</th>\n",
       "      <th>author</th>\n",
       "      <th>book_format</th>\n",
       "      <th>review</th>\n",
       "      <th>rating</th>\n",
       "      <th>price</th>\n",
       "      <th>year</th>\n",
       "    </tr>\n",
       "  </thead>\n",
       "  <tbody>\n",
       "    <tr>\n",
       "      <th>0</th>\n",
       "      <td>0</td>\n",
       "      <td>First 100 Words: A Padded Board Book</td>\n",
       "      <td>Roger Priddy</td>\n",
       "      <td>Board book</td>\n",
       "      <td>37,033</td>\n",
       "      <td>4.7</td>\n",
       "      <td>4.78</td>\n",
       "      <td>2015</td>\n",
       "    </tr>\n",
       "    <tr>\n",
       "      <th>1</th>\n",
       "      <td>1</td>\n",
       "      <td>The Life-Changing Magic of Tidying Up: The Jap...</td>\n",
       "      <td>NaN</td>\n",
       "      <td>Hardcover</td>\n",
       "      <td>58,650</td>\n",
       "      <td>4.5</td>\n",
       "      <td>8.89</td>\n",
       "      <td>2015</td>\n",
       "    </tr>\n",
       "    <tr>\n",
       "      <th>2</th>\n",
       "      <td>2</td>\n",
       "      <td>Laugh-Out-Loud Jokes for Kids</td>\n",
       "      <td>Rob Elliott</td>\n",
       "      <td>Paperback</td>\n",
       "      <td>11,767</td>\n",
       "      <td>4.6</td>\n",
       "      <td>4.99</td>\n",
       "      <td>2015</td>\n",
       "    </tr>\n",
       "    <tr>\n",
       "      <th>3</th>\n",
       "      <td>3</td>\n",
       "      <td>Secret Garden: An Inky Treasure Hunt and Color...</td>\n",
       "      <td>Johanna Basford</td>\n",
       "      <td>Paperback</td>\n",
       "      <td>15,464</td>\n",
       "      <td>4.7</td>\n",
       "      <td>12.15</td>\n",
       "      <td>2015</td>\n",
       "    </tr>\n",
       "    <tr>\n",
       "      <th>4</th>\n",
       "      <td>4</td>\n",
       "      <td>StrengthsFinder 2.0</td>\n",
       "      <td>NaN</td>\n",
       "      <td>Hardcover</td>\n",
       "      <td>8,178</td>\n",
       "      <td>4.1</td>\n",
       "      <td>20.96</td>\n",
       "      <td>2015</td>\n",
       "    </tr>\n",
       "  </tbody>\n",
       "</table>\n",
       "</div>"
      ],
      "text/plain": [
       "   Unnamed: 0                                              title  \\\n",
       "0           0               First 100 Words: A Padded Board Book   \n",
       "1           1  The Life-Changing Magic of Tidying Up: The Jap...   \n",
       "2           2                      Laugh-Out-Loud Jokes for Kids   \n",
       "3           3  Secret Garden: An Inky Treasure Hunt and Color...   \n",
       "4           4                                StrengthsFinder 2.0   \n",
       "\n",
       "            author book_format  review  rating  price  year  \n",
       "0     Roger Priddy  Board book  37,033     4.7   4.78  2015  \n",
       "1              NaN   Hardcover  58,650     4.5   8.89  2015  \n",
       "2      Rob Elliott   Paperback  11,767     4.6   4.99  2015  \n",
       "3  Johanna Basford   Paperback  15,464     4.7  12.15  2015  \n",
       "4              NaN   Hardcover   8,178     4.1  20.96  2015  "
      ]
     },
     "execution_count": 3,
     "metadata": {},
     "output_type": "execute_result"
    }
   ],
   "source": [
    "books.head(5)"
   ]
  },
  {
   "cell_type": "code",
   "execution_count": 4,
   "id": "32549eec",
   "metadata": {},
   "outputs": [
    {
     "data": {
      "text/html": [
       "<div>\n",
       "<style scoped>\n",
       "    .dataframe tbody tr th:only-of-type {\n",
       "        vertical-align: middle;\n",
       "    }\n",
       "\n",
       "    .dataframe tbody tr th {\n",
       "        vertical-align: top;\n",
       "    }\n",
       "\n",
       "    .dataframe thead th {\n",
       "        text-align: right;\n",
       "    }\n",
       "</style>\n",
       "<table border=\"1\" class=\"dataframe\">\n",
       "  <thead>\n",
       "    <tr style=\"text-align: right;\">\n",
       "      <th></th>\n",
       "      <th>title</th>\n",
       "      <th>author</th>\n",
       "      <th>book_format</th>\n",
       "      <th>review</th>\n",
       "      <th>rating</th>\n",
       "      <th>price</th>\n",
       "      <th>year</th>\n",
       "    </tr>\n",
       "  </thead>\n",
       "  <tbody>\n",
       "    <tr>\n",
       "      <th>0</th>\n",
       "      <td>First 100 Words: A Padded Board Book</td>\n",
       "      <td>Roger Priddy</td>\n",
       "      <td>Board book</td>\n",
       "      <td>37,033</td>\n",
       "      <td>4.7</td>\n",
       "      <td>4.78</td>\n",
       "      <td>2015</td>\n",
       "    </tr>\n",
       "    <tr>\n",
       "      <th>1</th>\n",
       "      <td>The Life-Changing Magic of Tidying Up: The Jap...</td>\n",
       "      <td>NaN</td>\n",
       "      <td>Hardcover</td>\n",
       "      <td>58,650</td>\n",
       "      <td>4.5</td>\n",
       "      <td>8.89</td>\n",
       "      <td>2015</td>\n",
       "    </tr>\n",
       "    <tr>\n",
       "      <th>2</th>\n",
       "      <td>Laugh-Out-Loud Jokes for Kids</td>\n",
       "      <td>Rob Elliott</td>\n",
       "      <td>Paperback</td>\n",
       "      <td>11,767</td>\n",
       "      <td>4.6</td>\n",
       "      <td>4.99</td>\n",
       "      <td>2015</td>\n",
       "    </tr>\n",
       "    <tr>\n",
       "      <th>3</th>\n",
       "      <td>Secret Garden: An Inky Treasure Hunt and Color...</td>\n",
       "      <td>Johanna Basford</td>\n",
       "      <td>Paperback</td>\n",
       "      <td>15,464</td>\n",
       "      <td>4.7</td>\n",
       "      <td>12.15</td>\n",
       "      <td>2015</td>\n",
       "    </tr>\n",
       "    <tr>\n",
       "      <th>4</th>\n",
       "      <td>StrengthsFinder 2.0</td>\n",
       "      <td>NaN</td>\n",
       "      <td>Hardcover</td>\n",
       "      <td>8,178</td>\n",
       "      <td>4.1</td>\n",
       "      <td>20.96</td>\n",
       "      <td>2015</td>\n",
       "    </tr>\n",
       "  </tbody>\n",
       "</table>\n",
       "</div>"
      ],
      "text/plain": [
       "                                               title           author  \\\n",
       "0               First 100 Words: A Padded Board Book     Roger Priddy   \n",
       "1  The Life-Changing Magic of Tidying Up: The Jap...              NaN   \n",
       "2                      Laugh-Out-Loud Jokes for Kids      Rob Elliott   \n",
       "3  Secret Garden: An Inky Treasure Hunt and Color...  Johanna Basford   \n",
       "4                                StrengthsFinder 2.0              NaN   \n",
       "\n",
       "  book_format  review  rating  price  year  \n",
       "0  Board book  37,033     4.7   4.78  2015  \n",
       "1   Hardcover  58,650     4.5   8.89  2015  \n",
       "2   Paperback  11,767     4.6   4.99  2015  \n",
       "3   Paperback  15,464     4.7  12.15  2015  \n",
       "4   Hardcover   8,178     4.1  20.96  2015  "
      ]
     },
     "execution_count": 4,
     "metadata": {},
     "output_type": "execute_result"
    }
   ],
   "source": [
    "#drop the unnamed column\n",
    "books = books.drop(['Unnamed: 0'], axis =1)\n",
    "books.head(5)"
   ]
  },
  {
   "cell_type": "code",
   "execution_count": 5,
   "id": "530a0e3d",
   "metadata": {},
   "outputs": [
    {
     "name": "stdout",
     "output_type": "stream",
     "text": [
      "<class 'pandas.core.frame.DataFrame'>\n",
      "RangeIndex: 60 entries, 0 to 59\n",
      "Data columns (total 7 columns):\n",
      " #   Column       Non-Null Count  Dtype  \n",
      "---  ------       --------------  -----  \n",
      " 0   title        59 non-null     object \n",
      " 1   author       50 non-null     object \n",
      " 2   book_format  60 non-null     object \n",
      " 3   review       60 non-null     object \n",
      " 4   rating       60 non-null     float64\n",
      " 5   price        58 non-null     float64\n",
      " 6   year         60 non-null     int64  \n",
      "dtypes: float64(2), int64(1), object(4)\n",
      "memory usage: 3.4+ KB\n"
     ]
    }
   ],
   "source": [
    "#check to ensure data types are correct\n",
    "books.info()"
   ]
  },
  {
   "cell_type": "code",
   "execution_count": 6,
   "id": "107cd8cf",
   "metadata": {},
   "outputs": [],
   "source": [
    "#remove the comma from the review column, then convert to integer\n",
    "books['review']=books['review'].str.replace(',','')\n",
    "books['review']=books['review'].astype(str).apply(lambda x: int(float(\"\".join(x.split(\",\")))))"
   ]
  },
  {
   "cell_type": "code",
   "execution_count": 7,
   "id": "e174032e",
   "metadata": {},
   "outputs": [
    {
     "name": "stdout",
     "output_type": "stream",
     "text": [
      "<class 'pandas.core.frame.DataFrame'>\n",
      "RangeIndex: 60 entries, 0 to 59\n",
      "Data columns (total 7 columns):\n",
      " #   Column       Non-Null Count  Dtype  \n",
      "---  ------       --------------  -----  \n",
      " 0   title        59 non-null     object \n",
      " 1   author       50 non-null     object \n",
      " 2   book_format  60 non-null     object \n",
      " 3   review       60 non-null     int64  \n",
      " 4   rating       60 non-null     float64\n",
      " 5   price        58 non-null     float64\n",
      " 6   year         60 non-null     int64  \n",
      "dtypes: float64(2), int64(2), object(3)\n",
      "memory usage: 3.4+ KB\n"
     ]
    }
   ],
   "source": [
    "books.info()"
   ]
  },
  {
   "cell_type": "code",
   "execution_count": 8,
   "id": "8da713b4",
   "metadata": {},
   "outputs": [
    {
     "data": {
      "text/html": [
       "<div>\n",
       "<style scoped>\n",
       "    .dataframe tbody tr th:only-of-type {\n",
       "        vertical-align: middle;\n",
       "    }\n",
       "\n",
       "    .dataframe tbody tr th {\n",
       "        vertical-align: top;\n",
       "    }\n",
       "\n",
       "    .dataframe thead th {\n",
       "        text-align: right;\n",
       "    }\n",
       "</style>\n",
       "<table border=\"1\" class=\"dataframe\">\n",
       "  <thead>\n",
       "    <tr style=\"text-align: right;\">\n",
       "      <th></th>\n",
       "      <th>review</th>\n",
       "      <th>rating</th>\n",
       "      <th>price</th>\n",
       "      <th>year</th>\n",
       "    </tr>\n",
       "  </thead>\n",
       "  <tbody>\n",
       "    <tr>\n",
       "      <th>count</th>\n",
       "      <td>60.000000</td>\n",
       "      <td>60.000000</td>\n",
       "      <td>58.000000</td>\n",
       "      <td>60.000000</td>\n",
       "    </tr>\n",
       "    <tr>\n",
       "      <th>mean</th>\n",
       "      <td>63246.050000</td>\n",
       "      <td>4.610000</td>\n",
       "      <td>11.602759</td>\n",
       "      <td>2015.500000</td>\n",
       "    </tr>\n",
       "    <tr>\n",
       "      <th>std</th>\n",
       "      <td>94489.940248</td>\n",
       "      <td>0.224515</td>\n",
       "      <td>5.355688</td>\n",
       "      <td>0.504219</td>\n",
       "    </tr>\n",
       "    <tr>\n",
       "      <th>min</th>\n",
       "      <td>1119.000000</td>\n",
       "      <td>3.800000</td>\n",
       "      <td>3.970000</td>\n",
       "      <td>2015.000000</td>\n",
       "    </tr>\n",
       "    <tr>\n",
       "      <th>25%</th>\n",
       "      <td>11767.000000</td>\n",
       "      <td>4.500000</td>\n",
       "      <td>7.762500</td>\n",
       "      <td>2015.000000</td>\n",
       "    </tr>\n",
       "    <tr>\n",
       "      <th>50%</th>\n",
       "      <td>28612.500000</td>\n",
       "      <td>4.650000</td>\n",
       "      <td>10.670000</td>\n",
       "      <td>2015.500000</td>\n",
       "    </tr>\n",
       "    <tr>\n",
       "      <th>75%</th>\n",
       "      <td>89707.000000</td>\n",
       "      <td>4.700000</td>\n",
       "      <td>15.047500</td>\n",
       "      <td>2016.000000</td>\n",
       "    </tr>\n",
       "    <tr>\n",
       "      <th>max</th>\n",
       "      <td>492067.000000</td>\n",
       "      <td>4.900000</td>\n",
       "      <td>26.130000</td>\n",
       "      <td>2016.000000</td>\n",
       "    </tr>\n",
       "  </tbody>\n",
       "</table>\n",
       "</div>"
      ],
      "text/plain": [
       "              review     rating      price         year\n",
       "count      60.000000  60.000000  58.000000    60.000000\n",
       "mean    63246.050000   4.610000  11.602759  2015.500000\n",
       "std     94489.940248   0.224515   5.355688     0.504219\n",
       "min      1119.000000   3.800000   3.970000  2015.000000\n",
       "25%     11767.000000   4.500000   7.762500  2015.000000\n",
       "50%     28612.500000   4.650000  10.670000  2015.500000\n",
       "75%     89707.000000   4.700000  15.047500  2016.000000\n",
       "max    492067.000000   4.900000  26.130000  2016.000000"
      ]
     },
     "execution_count": 8,
     "metadata": {},
     "output_type": "execute_result"
    }
   ],
   "source": [
    "books.describe()"
   ]
  },
  {
   "cell_type": "code",
   "execution_count": 9,
   "id": "8114efce",
   "metadata": {},
   "outputs": [
    {
     "data": {
      "text/plain": [
       "array(['Board book', 'Hardcover', 'Paperback', 'Mass Market Paperback'],\n",
       "      dtype=object)"
      ]
     },
     "execution_count": 9,
     "metadata": {},
     "output_type": "execute_result"
    }
   ],
   "source": [
    "#book formats in the dataset\n",
    "books['book_format'].unique()"
   ]
  },
  {
   "cell_type": "code",
   "execution_count": 10,
   "id": "2740fd05",
   "metadata": {},
   "outputs": [
    {
     "data": {
      "text/plain": [
       "Paperback                28\n",
       "Hardcover                24\n",
       "Board book                6\n",
       "Mass Market Paperback     2\n",
       "Name: book_format, dtype: int64"
      ]
     },
     "execution_count": 10,
     "metadata": {},
     "output_type": "execute_result"
    }
   ],
   "source": [
    "#how many books are in each format?\n",
    "books['book_format'].value_counts()"
   ]
  },
  {
   "cell_type": "code",
   "execution_count": 11,
   "id": "b307ac23",
   "metadata": {
    "scrolled": false
   },
   "outputs": [
    {
     "data": {
      "text/plain": [
       "<AxesSubplot:title={'center':'Best Selling Book Formats'}, ylabel='Number of Books'>"
      ]
     },
     "execution_count": 11,
     "metadata": {},
     "output_type": "execute_result"
    },
    {
     "data": {
      "image/png": "[encoded data removed]",
      "text/plain": [
       "<Figure size 400x400 with 1 Axes>"
      ]
     },
     "metadata": {},
     "output_type": "display_data"
    }
   ],
   "source": [
    "#Visualize the distribution of each format\n",
    "books['book_format'].value_counts().sort_values(ascending = False).plot(kind='bar', cmap = 'summer', figsize = (4,4), title = 'Best Selling Book Formats',ylabel = 'Number of Books')"
   ]
  },
  {
   "cell_type": "markdown",
   "id": "5500edbc",
   "metadata": {},
   "source": [
    "- There are four book formats in the dataset, most of the bestsellers are paperback books, closely followed by hardcover books. Board book and Mass market paperback had the lowest number of bestsellers."
   ]
  },
  {
   "cell_type": "code",
   "execution_count": 12,
   "id": "c2af2123",
   "metadata": {},
   "outputs": [
    {
     "data": {
      "text/plain": [
       "book_format\n",
       "Mass Market Paperback    21.160000\n",
       "Hardcover                14.601304\n",
       "Paperback                 9.806296\n",
       "Board book                5.006667\n",
       "Name: price, dtype: float64"
      ]
     },
     "execution_count": 12,
     "metadata": {},
     "output_type": "execute_result"
    }
   ],
   "source": [
    "#Average price for each format\n",
    "books.groupby('book_format')['price'].mean().sort_values(ascending = False)"
   ]
  },
  {
   "cell_type": "code",
   "execution_count": 13,
   "id": "f33a1eb5",
   "metadata": {},
   "outputs": [
    {
     "data": {
      "text/plain": [
       "Text(0.5, 1.0, 'Price by Book Format')"
      ]
     },
     "execution_count": 13,
     "metadata": {},
     "output_type": "execute_result"
    },
    {
     "data": {
      "image/png": "[encoded data removed]",
      "text/plain": [
       "<Figure size 640x480 with 1 Axes>"
      ]
     },
     "metadata": {},
     "output_type": "display_data"
    }
   ],
   "source": [
    "#Visualize the price for each book format\n",
    "sns.boxplot(x = 'book_format',y = 'price',data = books, color = 'seagreen')\n",
    "plt.title(\"Price by Book Format\")"
   ]
  },
  {
   "cell_type": "markdown",
   "id": "dc3ee1cb",
   "metadata": {},
   "source": [
    "- Mass Market Paperback is the most expensive book format, while Board book is the least expensive book format."
   ]
  },
  {
   "cell_type": "code",
   "execution_count": 14,
   "id": "0b0b051b",
   "metadata": {
    "scrolled": true
   },
   "outputs": [
    {
     "data": {
      "text/html": [
       "<div>\n",
       "<style scoped>\n",
       "    .dataframe tbody tr th:only-of-type {\n",
       "        vertical-align: middle;\n",
       "    }\n",
       "\n",
       "    .dataframe tbody tr th {\n",
       "        vertical-align: top;\n",
       "    }\n",
       "\n",
       "    .dataframe thead th {\n",
       "        text-align: right;\n",
       "    }\n",
       "</style>\n",
       "<table border=\"1\" class=\"dataframe\">\n",
       "  <thead>\n",
       "    <tr style=\"text-align: right;\">\n",
       "      <th></th>\n",
       "      <th>title</th>\n",
       "      <th>author</th>\n",
       "      <th>book_format</th>\n",
       "      <th>review</th>\n",
       "      <th>rating</th>\n",
       "      <th>price</th>\n",
       "      <th>year</th>\n",
       "    </tr>\n",
       "  </thead>\n",
       "  <tbody>\n",
       "    <tr>\n",
       "      <th>48</th>\n",
       "      <td>Hamilton: The Revolution</td>\n",
       "      <td>Lin-Manuel Miranda</td>\n",
       "      <td>Hardcover</td>\n",
       "      <td>14250</td>\n",
       "      <td>4.9</td>\n",
       "      <td>26.13</td>\n",
       "      <td>2016</td>\n",
       "    </tr>\n",
       "    <tr>\n",
       "      <th>29</th>\n",
       "      <td>Thug Kitchen: The Official Cookbook: Eat Like ...</td>\n",
       "      <td>NaN</td>\n",
       "      <td>Hardcover</td>\n",
       "      <td>15069</td>\n",
       "      <td>4.6</td>\n",
       "      <td>22.99</td>\n",
       "      <td>2015</td>\n",
       "    </tr>\n",
       "    <tr>\n",
       "      <th>45</th>\n",
       "      <td>To Kill a Mockingbird</td>\n",
       "      <td>Harper Lee</td>\n",
       "      <td>Mass Market Paperback</td>\n",
       "      <td>130592</td>\n",
       "      <td>4.7</td>\n",
       "      <td>21.16</td>\n",
       "      <td>2016</td>\n",
       "    </tr>\n",
       "    <tr>\n",
       "      <th>11</th>\n",
       "      <td>To Kill a Mockingbird</td>\n",
       "      <td>Harper Lee</td>\n",
       "      <td>Mass Market Paperback</td>\n",
       "      <td>130592</td>\n",
       "      <td>4.7</td>\n",
       "      <td>21.16</td>\n",
       "      <td>2015</td>\n",
       "    </tr>\n",
       "    <tr>\n",
       "      <th>4</th>\n",
       "      <td>StrengthsFinder 2.0</td>\n",
       "      <td>NaN</td>\n",
       "      <td>Hardcover</td>\n",
       "      <td>8178</td>\n",
       "      <td>4.1</td>\n",
       "      <td>20.96</td>\n",
       "      <td>2015</td>\n",
       "    </tr>\n",
       "    <tr>\n",
       "      <th>31</th>\n",
       "      <td>StrengthsFinder 2.0</td>\n",
       "      <td>NaN</td>\n",
       "      <td>Hardcover</td>\n",
       "      <td>8178</td>\n",
       "      <td>4.1</td>\n",
       "      <td>20.96</td>\n",
       "      <td>2016</td>\n",
       "    </tr>\n",
       "    <tr>\n",
       "      <th>59</th>\n",
       "      <td>The 7 Habits of Highly Effective People: Power...</td>\n",
       "      <td>Stephen R. Covey</td>\n",
       "      <td>Paperback</td>\n",
       "      <td>9405</td>\n",
       "      <td>4.7</td>\n",
       "      <td>19.65</td>\n",
       "      <td>2016</td>\n",
       "    </tr>\n",
       "    <tr>\n",
       "      <th>41</th>\n",
       "      <td>Killing the Rising Sun: How America Vanquished...</td>\n",
       "      <td>Bill O'Reilly</td>\n",
       "      <td>Hardcover</td>\n",
       "      <td>21299</td>\n",
       "      <td>4.6</td>\n",
       "      <td>19.36</td>\n",
       "      <td>2016</td>\n",
       "    </tr>\n",
       "    <tr>\n",
       "      <th>36</th>\n",
       "      <td>When Breath Becomes Air</td>\n",
       "      <td>Paul Kalanithi</td>\n",
       "      <td>Hardcover</td>\n",
       "      <td>99709</td>\n",
       "      <td>4.7</td>\n",
       "      <td>17.34</td>\n",
       "      <td>2016</td>\n",
       "    </tr>\n",
       "    <tr>\n",
       "      <th>20</th>\n",
       "      <td>The Boys in the Boat: Nine Americans and Their...</td>\n",
       "      <td>Daniel James Brown</td>\n",
       "      <td>Paperback</td>\n",
       "      <td>82119</td>\n",
       "      <td>4.6</td>\n",
       "      <td>16.99</td>\n",
       "      <td>2015</td>\n",
       "    </tr>\n",
       "  </tbody>\n",
       "</table>\n",
       "</div>"
      ],
      "text/plain": [
       "                                                title              author  \\\n",
       "48                           Hamilton: The Revolution  Lin-Manuel Miranda   \n",
       "29  Thug Kitchen: The Official Cookbook: Eat Like ...                 NaN   \n",
       "45                              To Kill a Mockingbird          Harper Lee   \n",
       "11                              To Kill a Mockingbird          Harper Lee   \n",
       "4                                 StrengthsFinder 2.0                 NaN   \n",
       "31                                StrengthsFinder 2.0                 NaN   \n",
       "59  The 7 Habits of Highly Effective People: Power...    Stephen R. Covey   \n",
       "41  Killing the Rising Sun: How America Vanquished...       Bill O'Reilly   \n",
       "36                            When Breath Becomes Air      Paul Kalanithi   \n",
       "20  The Boys in the Boat: Nine Americans and Their...  Daniel James Brown   \n",
       "\n",
       "              book_format  review  rating  price  year  \n",
       "48              Hardcover   14250     4.9  26.13  2016  \n",
       "29              Hardcover   15069     4.6  22.99  2015  \n",
       "45  Mass Market Paperback  130592     4.7  21.16  2016  \n",
       "11  Mass Market Paperback  130592     4.7  21.16  2015  \n",
       "4               Hardcover    8178     4.1  20.96  2015  \n",
       "31              Hardcover    8178     4.1  20.96  2016  \n",
       "59              Paperback    9405     4.7  19.65  2016  \n",
       "41              Hardcover   21299     4.6  19.36  2016  \n",
       "36              Hardcover   99709     4.7  17.34  2016  \n",
       "20              Paperback   82119     4.6  16.99  2015  "
      ]
     },
     "execution_count": 14,
     "metadata": {},
     "output_type": "execute_result"
    }
   ],
   "source": [
    "#Top 10 books by price\n",
    "books.sort_values(by = 'price',ascending = False)[0:10]"
   ]
  },
  {
   "cell_type": "markdown",
   "id": "efab51c4",
   "metadata": {},
   "source": [
    "- Hamilton: The Revolution is the most expensive of the books in the dataset.\n",
    "\n",
    "- To Kill a Mockingbird made the bestsellers list in 2015 and 2016."
   ]
  },
  {
   "cell_type": "code",
   "execution_count": 15,
   "id": "a15342e8",
   "metadata": {},
   "outputs": [
    {
     "data": {
      "text/html": [
       "<div>\n",
       "<style scoped>\n",
       "    .dataframe tbody tr th:only-of-type {\n",
       "        vertical-align: middle;\n",
       "    }\n",
       "\n",
       "    .dataframe tbody tr th {\n",
       "        vertical-align: top;\n",
       "    }\n",
       "\n",
       "    .dataframe thead th {\n",
       "        text-align: right;\n",
       "    }\n",
       "</style>\n",
       "<table border=\"1\" class=\"dataframe\">\n",
       "  <thead>\n",
       "    <tr style=\"text-align: right;\">\n",
       "      <th></th>\n",
       "      <th>title</th>\n",
       "      <th>author</th>\n",
       "      <th>book_format</th>\n",
       "      <th>review</th>\n",
       "      <th>rating</th>\n",
       "      <th>price</th>\n",
       "      <th>year</th>\n",
       "    </tr>\n",
       "  </thead>\n",
       "  <tbody>\n",
       "    <tr>\n",
       "      <th>58</th>\n",
       "      <td>The Very Hungry Caterpillar</td>\n",
       "      <td>Eric Carle</td>\n",
       "      <td>Board book</td>\n",
       "      <td>59835</td>\n",
       "      <td>4.9</td>\n",
       "      <td>5.57</td>\n",
       "      <td>2016</td>\n",
       "    </tr>\n",
       "    <tr>\n",
       "      <th>21</th>\n",
       "      <td>Jesus Calling, Padded Hardcover, with Scriptur...</td>\n",
       "      <td>Sarah Young</td>\n",
       "      <td>Hardcover</td>\n",
       "      <td>43004</td>\n",
       "      <td>4.9</td>\n",
       "      <td>8.89</td>\n",
       "      <td>2015</td>\n",
       "    </tr>\n",
       "    <tr>\n",
       "      <th>18</th>\n",
       "      <td>Dear Zoo: A Lift-the-Flap Book</td>\n",
       "      <td>Rod Campbell</td>\n",
       "      <td>Board book</td>\n",
       "      <td>28326</td>\n",
       "      <td>4.9</td>\n",
       "      <td>5.00</td>\n",
       "      <td>2015</td>\n",
       "    </tr>\n",
       "    <tr>\n",
       "      <th>48</th>\n",
       "      <td>Hamilton: The Revolution</td>\n",
       "      <td>Lin-Manuel Miranda</td>\n",
       "      <td>Hardcover</td>\n",
       "      <td>14250</td>\n",
       "      <td>4.9</td>\n",
       "      <td>26.13</td>\n",
       "      <td>2016</td>\n",
       "    </tr>\n",
       "    <tr>\n",
       "      <th>34</th>\n",
       "      <td>Oh, the Places You'll Go!</td>\n",
       "      <td>Dr. Seuss</td>\n",
       "      <td>Hardcover</td>\n",
       "      <td>48035</td>\n",
       "      <td>4.9</td>\n",
       "      <td>7.49</td>\n",
       "      <td>2016</td>\n",
       "    </tr>\n",
       "    <tr>\n",
       "      <th>16</th>\n",
       "      <td>Oh, the Places You'll Go!</td>\n",
       "      <td>Dr. Seuss</td>\n",
       "      <td>Hardcover</td>\n",
       "      <td>48035</td>\n",
       "      <td>4.9</td>\n",
       "      <td>7.49</td>\n",
       "      <td>2015</td>\n",
       "    </tr>\n",
       "    <tr>\n",
       "      <th>14</th>\n",
       "      <td>Humans of New York : Stories</td>\n",
       "      <td>Brandon Stanton</td>\n",
       "      <td>Hardcover</td>\n",
       "      <td>5378</td>\n",
       "      <td>4.9</td>\n",
       "      <td>15.69</td>\n",
       "      <td>2015</td>\n",
       "    </tr>\n",
       "    <tr>\n",
       "      <th>37</th>\n",
       "      <td>Giraffes Can't Dance (Board Book)</td>\n",
       "      <td>NaN</td>\n",
       "      <td>Board book</td>\n",
       "      <td>28899</td>\n",
       "      <td>4.8</td>\n",
       "      <td>5.94</td>\n",
       "      <td>2016</td>\n",
       "    </tr>\n",
       "    <tr>\n",
       "      <th>38</th>\n",
       "      <td>The 5 Love Languages: The Secret to Love that ...</td>\n",
       "      <td>Gary Chapman</td>\n",
       "      <td>Paperback</td>\n",
       "      <td>89707</td>\n",
       "      <td>4.8</td>\n",
       "      <td>8.39</td>\n",
       "      <td>2016</td>\n",
       "    </tr>\n",
       "    <tr>\n",
       "      <th>26</th>\n",
       "      <td>The 5 Love Languages: The Secret to Love that ...</td>\n",
       "      <td>Gary Chapman</td>\n",
       "      <td>Paperback</td>\n",
       "      <td>89707</td>\n",
       "      <td>4.8</td>\n",
       "      <td>8.39</td>\n",
       "      <td>2015</td>\n",
       "    </tr>\n",
       "  </tbody>\n",
       "</table>\n",
       "</div>"
      ],
      "text/plain": [
       "                                                title              author  \\\n",
       "58                        The Very Hungry Caterpillar          Eric Carle   \n",
       "21  Jesus Calling, Padded Hardcover, with Scriptur...         Sarah Young   \n",
       "18                     Dear Zoo: A Lift-the-Flap Book        Rod Campbell   \n",
       "48                           Hamilton: The Revolution  Lin-Manuel Miranda   \n",
       "34                        Oh, the Places You'll Go!             Dr. Seuss   \n",
       "16                        Oh, the Places You'll Go!             Dr. Seuss   \n",
       "14                       Humans of New York : Stories     Brandon Stanton   \n",
       "37                  Giraffes Can't Dance (Board Book)                 NaN   \n",
       "38  The 5 Love Languages: The Secret to Love that ...        Gary Chapman   \n",
       "26  The 5 Love Languages: The Secret to Love that ...        Gary Chapman   \n",
       "\n",
       "   book_format  review  rating  price  year  \n",
       "58  Board book   59835     4.9   5.57  2016  \n",
       "21   Hardcover   43004     4.9   8.89  2015  \n",
       "18  Board book   28326     4.9   5.00  2015  \n",
       "48   Hardcover   14250     4.9  26.13  2016  \n",
       "34   Hardcover   48035     4.9   7.49  2016  \n",
       "16   Hardcover   48035     4.9   7.49  2015  \n",
       "14   Hardcover    5378     4.9  15.69  2015  \n",
       "37  Board book   28899     4.8   5.94  2016  \n",
       "38   Paperback   89707     4.8   8.39  2016  \n",
       "26   Paperback   89707     4.8   8.39  2015  "
      ]
     },
     "execution_count": 15,
     "metadata": {},
     "output_type": "execute_result"
    }
   ],
   "source": [
    "#Top 10 books by rating\n",
    "books.sort_values(by = 'rating',ascending = False)[0:10]"
   ]
  },
  {
   "cell_type": "markdown",
   "id": "c7ad01dc",
   "metadata": {},
   "source": [
    "- from the table above, we see that 6 books had the highest rating of 4.9.\n",
    "- We also see that 'The 5 Love Languages' and 'Oh, the places you'll go' were among the bestsellers in both 2015 and 2016."
   ]
  },
  {
   "cell_type": "code",
   "execution_count": 16,
   "id": "ed010dd1",
   "metadata": {},
   "outputs": [
    {
     "data": {
      "text/plain": [
       "title\n",
       "Laugh-Out-Loud Jokes for Kids                                                             2\n",
       "To Kill a Mockingbird                                                                     2\n",
       "How to Win Friends & Influence People (Dale Carnegie Books)                               2\n",
       "Mindset: The New Psychology of Success                                                    2\n",
       "Oh, the Places You'll Go!                                                                 2\n",
       "StrengthsFinder 2.0                                                                       2\n",
       "The Life-Changing Magic of Tidying Up: The Japanese Art of Decluttering and Organizing    2\n",
       "The 5 Love Languages: The Secret to Love that Lasts                                       2\n",
       "The Girl on the Train                                                                     2\n",
       "First 100 Words: A Padded Board Book                                                      2\n",
       "Name: title, dtype: int64"
      ]
     },
     "execution_count": 16,
     "metadata": {},
     "output_type": "execute_result"
    }
   ],
   "source": [
    "#check for other books that made the bestsellers list in 2015 and 2016\n",
    "books.groupby('title')['title'].count().sort_values(ascending = False).head(10)"
   ]
  },
  {
   "cell_type": "markdown",
   "id": "2b52ce4f",
   "metadata": {},
   "source": [
    "- 10 books appeared in the bestsellers list in 2015 and 2016"
   ]
  },
  {
   "cell_type": "code",
   "execution_count": 17,
   "id": "627f8f7c",
   "metadata": {},
   "outputs": [
    {
     "data": {
      "text/plain": [
       "book_format\n",
       "Mass Market Paperback    130592.000000\n",
       "Paperback                 63954.071429\n",
       "Hardcover                 63927.916667\n",
       "Board book                34765.833333\n",
       "Name: review, dtype: float64"
      ]
     },
     "execution_count": 17,
     "metadata": {},
     "output_type": "execute_result"
    }
   ],
   "source": [
    "#average number of reviews by book format\n",
    "books.groupby('book_format')['review'].mean().sort_values(ascending = False)"
   ]
  },
  {
   "cell_type": "code",
   "execution_count": 18,
   "id": "001c9ae0",
   "metadata": {},
   "outputs": [
    {
     "data": {
      "text/plain": [
       "Text(0.5, 1.0, 'Number of Reviews by Book format')"
      ]
     },
     "execution_count": 18,
     "metadata": {},
     "output_type": "execute_result"
    },
    {
     "data": {
      "image/png": "[encoded data removed]",
      "text/plain": [
       "<Figure size 640x480 with 1 Axes>"
      ]
     },
     "metadata": {},
     "output_type": "display_data"
    }
   ],
   "source": [
    "#visualize the number of reviws by book format\n",
    "sns.boxplot(x = 'book_format',y = 'review',data = books, color = 'seagreen')\n",
    "plt.title(\"Number of Reviews by Book format\")"
   ]
  },
  {
   "cell_type": "markdown",
   "id": "1dc5764b",
   "metadata": {},
   "source": [
    "- Despite only 2 mass market books making the bestsellers list, they had the highest number of reviews."
   ]
  },
  {
   "cell_type": "code",
   "execution_count": 19,
   "id": "b94183fd",
   "metadata": {
    "scrolled": true
   },
   "outputs": [
    {
     "data": {
      "text/plain": [
       "book_format\n",
       "Board book               4.800000\n",
       "Mass Market Paperback    4.700000\n",
       "Paperback                4.610714\n",
       "Hardcover                4.554167\n",
       "Name: rating, dtype: float64"
      ]
     },
     "execution_count": 19,
     "metadata": {},
     "output_type": "execute_result"
    }
   ],
   "source": [
    "#rating by book format\n",
    "books.groupby('book_format')['rating'].mean().sort_values(ascending = False)"
   ]
  },
  {
   "cell_type": "code",
   "execution_count": 20,
   "id": "12a6cf87",
   "metadata": {
    "scrolled": false
   },
   "outputs": [
    {
     "data": {
      "text/plain": [
       "Text(0.5, 1.0, 'Ratings by Book Format')"
      ]
     },
     "execution_count": 20,
     "metadata": {},
     "output_type": "execute_result"
    },
    {
     "data": {
      "image/png": "[encoded data removed]",
      "text/plain": [
       "<Figure size 640x480 with 1 Axes>"
      ]
     },
     "metadata": {},
     "output_type": "display_data"
    }
   ],
   "source": [
    "#Visualize book format rating\n",
    "sns.boxplot(x = 'book_format',y = 'rating',data = books, color = 'seagreen')\n",
    "plt.title(\"Ratings by Book Format\")"
   ]
  },
  {
   "cell_type": "markdown",
   "id": "8716bc72",
   "metadata": {},
   "source": [
    "Board book books had the highest rating, while hardcover books had the least rating."
   ]
  },
  {
   "cell_type": "code",
   "execution_count": 21,
   "id": "2a7a2c45",
   "metadata": {},
   "outputs": [
    {
     "data": {
      "text/plain": [
       "author\n",
       "Harper Lee         3\n",
       "Rob Elliott        3\n",
       "Dale Carnegie      2\n",
       "Johanna Basford    2\n",
       "Gary Chapman       2\n",
       "Marjorie Sarnat    2\n",
       "Paula Hawkins      2\n",
       "Dr. Seuss          2\n",
       "J.K. Rowling       2\n",
       "Jeff Kinney        2\n",
       "Name: title, dtype: int64"
      ]
     },
     "execution_count": 21,
     "metadata": {},
     "output_type": "execute_result"
    }
   ],
   "source": [
    "#Top 10 authors based on number of times their book made the list\n",
    "books.groupby('author')['title'].count().sort_values(ascending = False).head(10)"
   ]
  },
  {
   "cell_type": "code",
   "execution_count": 22,
   "id": "2fd8fd9f",
   "metadata": {},
   "outputs": [
    {
     "data": {
      "text/plain": [
       "author\n",
       "Dr. Seuss             4.90\n",
       "Rod Campbell          4.90\n",
       "Brandon Stanton       4.90\n",
       "Sarah Young           4.90\n",
       "Eric Carle            4.90\n",
       "Lin-Manuel Miranda    4.90\n",
       "Gary Chapman          4.80\n",
       "Sandra Boynton        4.80\n",
       "Drew Daywalt          4.80\n",
       "Marjorie Sarnat       4.75\n",
       "Name: rating, dtype: float64"
      ]
     },
     "execution_count": 22,
     "metadata": {},
     "output_type": "execute_result"
    }
   ],
   "source": [
    "#Top 10 authors based on average book rating\n",
    "books.groupby('author')['rating'].mean().sort_values(ascending = False).head(10)"
   ]
  },
  {
   "cell_type": "code",
   "execution_count": 23,
   "id": "3556cc98",
   "metadata": {},
   "outputs": [
    {
     "data": {
      "text/plain": [
       "Text(0.5, 1.0, 'Book Ratings by Price')"
      ]
     },
     "execution_count": 23,
     "metadata": {},
     "output_type": "execute_result"
    },
    {
     "data": {
      "image/png": "[encoded data removed]",
      "text/plain": [
       "<Figure size 640x480 with 1 Axes>"
      ]
     },
     "metadata": {},
     "output_type": "display_data"
    }
   ],
   "source": [
    "#Is there a relationship between book price and rating?\n",
    "sns.scatterplot(x = 'price',y = 'rating',data = books, color = 'seagreen')\n",
    "plt.title(\"Book Ratings by Price\")"
   ]
  },
  {
   "cell_type": "code",
   "execution_count": 24,
   "id": "4f401ae2",
   "metadata": {},
   "outputs": [
    {
     "data": {
      "text/plain": [
       "Text(0.5, 1.0, 'Book Ratings by Number of Reviews')"
      ]
     },
     "execution_count": 24,
     "metadata": {},
     "output_type": "execute_result"
    },
    {
     "data": {
      "image/png": "[encoded data removed]",
      "text/plain": [
       "<Figure size 640x480 with 1 Axes>"
      ]
     },
     "metadata": {},
     "output_type": "display_data"
    }
   ],
   "source": [
    "#Is there a relationship between book ratings and number of reviews?\n",
    "sns.scatterplot(x = 'review',y = 'rating',data = books, color = 'seagreen')\n",
    "plt.title(\"Book Ratings by Number of Reviews\")"
   ]
  },
  {
   "cell_type": "code",
   "execution_count": 25,
   "id": "2f433043",
   "metadata": {},
   "outputs": [
    {
     "data": {
      "text/plain": [
       "Text(0.5, 1.0, 'Number of Reviews by Book Price')"
      ]
     },
     "execution_count": 25,
     "metadata": {},
     "output_type": "execute_result"
    },
    {
     "data": {
      "image/png": "[encoded data removed]",
      "text/plain": [
       "<Figure size 640x480 with 1 Axes>"
      ]
     },
     "metadata": {},
     "output_type": "display_data"
    }
   ],
   "source": [
    "#Is there a relationship between price and number of reviews?\n",
    "sns.scatterplot(x = 'price',y = 'review',data = books, color = 'seagreen')\n",
    "plt.title(\"Number of Reviews by Book Price\")"
   ]
  },
  {
   "cell_type": "markdown",
   "id": "1fd23997",
   "metadata": {},
   "source": [
    "There is no direct relationship between price, review and rating."
   ]
  },
  {
   "cell_type": "markdown",
   "id": "3f801ffe",
   "metadata": {},
   "source": [
    "**Conclusion**\n",
    "\n",
    "Of the 30 best selling books in 2015 and 2016:\n",
    "\n",
    "- There were four major book formats - Hardcover, Paperback, Mass Market Paperback and Board Book.\n",
    "- Mass Market Paperback had the most expensive books, while Board book had the least expensive.\n",
    "- Mass Market Paperback also had the highest number of reviews, despite only two books in that format making the list.\n",
    "- Board books had the highest rating on average, while Hardcover books had the least.\n",
    "- Hamilton: The Revolution, was the most expensive book in the dataset, with a price of USD 26.13.\n",
    "- 6 books had the highest rating of 4.9.\n",
    "- 10 books appeared in the best sellers list in both years.\n",
    "- There is no direct relationship between the price, review and rating of a book.\n"
   ]
  }
 ],
 "metadata": {
  "kernelspec": {
   "display_name": "Python 3 (ipykernel)",
   "language": "python",
   "name": "python3"
  },
  "language_info": {
   "codemirror_mode": {
    "name": "ipython",
    "version": 3
   },
   "file_extension": ".py",
   "mimetype": "text/x-python",
   "name": "python",
   "nbconvert_exporter": "python",
   "pygments_lexer": "ipython3",
   "version": "3.9.13"
  }
 },
 "nbformat": 4,
 "nbformat_minor": 5
}
